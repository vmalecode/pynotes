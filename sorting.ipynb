{
 "cells": [
  {
   "cell_type": "code",
   "execution_count": 2,
   "metadata": {},
   "outputs": [
    {
     "name": "stdout",
     "output_type": "stream",
     "text": [
      "[5, 4, 4, 3, 2]\n"
     ]
    }
   ],
   "source": [
    "# Custom sort comparator:\n",
    "# https://docs.python.org/3/howto/sorting.html\n",
    "import functools\n",
    "nums = [5,4,2,3,4]\n",
    "def cmp(x,y):\n",
    "    if(x < y):\n",
    "        return 1\n",
    "    elif x==y:\n",
    "        return 0\n",
    "    else:\n",
    "        return -1\n",
    "print(sorted(nums,key=functools.cmp_to_key(cmp)))"
   ]
  },
  {
   "cell_type": "code",
   "execution_count": null,
   "metadata": {},
   "outputs": [],
   "source": [
    "#Lambda sort\n",
    "s = 'aaaabbabaccddd'\n",
    "freqs = dict()\n",
    "for ch in s:\n",
    "    freqs[ch] = freqs.get(ch,0) + 1\n",
    "ls = []\n",
    "for ch in freqs.keys():\n",
    "    ls.append((ch,freqs[ch]))\n",
    "ls.sort(reverse = True, key = lambda x: x[1])\n",
    "print(ls)"
   ]
  },
  {
   "cell_type": "code",
   "execution_count": 2,
   "metadata": {},
   "outputs": [
    {
     "name": "stdout",
     "output_type": "stream",
     "text": [
      "SortedList([(1, 0), (3, 0)])\n",
      "SortedList([1, 2, 3, 4, 5])\n"
     ]
    }
   ],
   "source": [
    "#sortedList\n",
    "from sortedcontainers import SortedList\n",
    "sorted_list = SortedList()\n",
    "tupls = (1,0), (2,0), (3,0)\n",
    "for i in range(5, 0, -1):\n",
    "  sorted_list.add(i)\n",
    "sl2 = SortedList()\n",
    "for t in tupls:\n",
    "  sl2.add(t)\n",
    "sl2.remove((2,0))\n",
    "print(sl2)\n",
    "print(sorted_list)"
   ]
  },
  {
   "cell_type": "code",
   "execution_count": 1,
   "metadata": {},
   "outputs": [
    {
     "name": "stdout",
     "output_type": "stream",
     "text": [
      "[1, 2, 3]\n"
     ]
    }
   ],
   "source": [
    "#return list with maxlen:\n",
    "myLists = [\n",
    "  [1],\n",
    "  [1,2],\n",
    "  [1,2,3]\n",
    "]\n",
    "print(max(myLists, key=len))"
   ]
  },
  {
   "cell_type": "markdown",
   "metadata": {},
   "source": [
    "\n"
   ]
  }
 ],
 "metadata": {
  "kernelspec": {
   "display_name": "Python 3.8.5 ('base')",
   "language": "python",
   "name": "python3"
  },
  "language_info": {
   "codemirror_mode": {
    "name": "ipython",
    "version": 3
   },
   "file_extension": ".py",
   "mimetype": "text/x-python",
   "name": "python",
   "nbconvert_exporter": "python",
   "pygments_lexer": "ipython3",
   "version": "3.8.5"
  },
  "orig_nbformat": 4,
  "vscode": {
   "interpreter": {
    "hash": "f20620e545ddc3c3c7e57464323de3fd5a7744283720cb78d51986061cf26ae2"
   }
  }
 },
 "nbformat": 4,
 "nbformat_minor": 2
}
