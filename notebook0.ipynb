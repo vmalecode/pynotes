{
 "cells": [
  {
   "cell_type": "code",
   "execution_count": 8,
   "id": "9b86cb12",
   "metadata": {},
   "outputs": [
    {
     "name": "stdout",
     "output_type": "stream",
     "text": [
      "[5, 4, 4, 3, 2]\n"
     ]
    }
   ],
   "source": [
    "# Custom sort comparator:\n",
    "# https://docs.python.org/3/howto/sorting.html\n",
    "import functools\n",
    "nums = [5,4,2,3,4]\n",
    "def cmp(x,y):\n",
    "    if(x < y):\n",
    "        return 1\n",
    "    elif x==y:\n",
    "        return 0\n",
    "    else:\n",
    "        return -1\n",
    "print(sorted(nums,key=functools.cmp_to_key(cmp)))\n"
   ]
  },
  {
   "cell_type": "code",
   "execution_count": 10,
   "id": "379345f8",
   "metadata": {},
   "outputs": [
    {
     "name": "stdout",
     "output_type": "stream",
     "text": [
      "1 1\n"
     ]
    }
   ],
   "source": [
    "#DivMod is same as (a // b, a % b)\n",
    "#returns pair of numbers consisting of their quotient and remainder when using integer division\n",
    "idx = 5\n",
    "matrix= [[1,3,5,7],[10,11,16,20],[23,30,34,60]]\n",
    "r,c = divmod(idx,len(matrix[0]))\n",
    "print(r,c)"
   ]
  },
  {
   "cell_type": "code",
   "execution_count": null,
   "id": "3f2a159b",
   "metadata": {},
   "outputs": [],
   "source": []
  }
 ],
 "metadata": {
  "kernelspec": {
   "display_name": "Python 3 (ipykernel)",
   "language": "python",
   "name": "python3"
  },
  "language_info": {
   "codemirror_mode": {
    "name": "ipython",
    "version": 3
   },
   "file_extension": ".py",
   "mimetype": "text/x-python",
   "name": "python",
   "nbconvert_exporter": "python",
   "pygments_lexer": "ipython3",
   "version": "3.10.5"
  }
 },
 "nbformat": 4,
 "nbformat_minor": 5
}
