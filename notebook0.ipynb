{
 "cells": [
  {
   "cell_type": "code",
   "execution_count": 2,
   "id": "9b86cb12",
   "metadata": {},
   "outputs": [
    {
     "name": "stdout",
     "output_type": "stream",
     "text": [
      "[5, 4, 4, 3, 2]\n"
     ]
    }
   ],
   "source": [
    "# Custom sort comparator:\n",
    "# https://docs.python.org/3/howto/sorting.html\n",
    "import functools\n",
    "nums = [5,4,2,3,4]\n",
    "def cmp(x,y):\n",
    "    if(x < y):\n",
    "        return 1\n",
    "    elif x==y:\n",
    "        return 0\n",
    "    else:\n",
    "        return -1\n",
    "print(sorted(nums,key=functools.cmp_to_key(cmp)))\n"
   ]
  },
  {
   "cell_type": "code",
   "execution_count": 3,
   "id": "379345f8",
   "metadata": {},
   "outputs": [
    {
     "name": "stdout",
     "output_type": "stream",
     "text": [
      "1 1\n"
     ]
    }
   ],
   "source": [
    "#DivMod is same as (a // b, a % b)\n",
    "#returns pair of numbers consisting of their quotient and remainder when using integer division\n",
    "idx = 5\n",
    "matrix= [[1,3,5,7],[10,11,16,20],[23,30,34,60]]\n",
    "r,c = divmod(idx,len(matrix[0]))\n",
    "print(r,c)"
   ]
  },
  {
   "cell_type": "code",
   "execution_count": 4,
   "id": "3f2a159b",
   "metadata": {},
   "outputs": [],
   "source": [
    "# functools.lru_cache\n",
    "# LRU Cache, no cache size limit:\n",
    "import functools\n",
    "@functools.lru_cache(None)\n",
    "def dfs(a,b,c):\n",
    "  return a+b+c\n",
    "#clear cache:\n",
    "dfs.cache_clear()"
   ]
  },
  {
   "cell_type": "code",
   "execution_count": 5,
   "id": "0d500f5a",
   "metadata": {},
   "outputs": [
    {
     "name": "stdout",
     "output_type": "stream",
     "text": [
      "65\n",
      "90\n",
      "A\n"
     ]
    }
   ],
   "source": [
    "# Ascii tricks\n",
    "print(ord('A'))\n",
    "print(ord('Z'))\n",
    "print(chr(65))\n"
   ]
  },
  {
   "cell_type": "code",
   "execution_count": 5,
   "id": "623f58ec",
   "metadata": {},
   "outputs": [
    {
     "name": "stdout",
     "output_type": "stream",
     "text": [
      "[('a', 6), ('b', 3), ('d', 3), ('c', 2)]\n"
     ]
    }
   ],
   "source": [
    "#Lambda sort\n",
    "s = 'aaaabbabaccddd'\n",
    "freqs = dict()\n",
    "for ch in s:\n",
    "    freqs[ch] = freqs.get(ch,0) + 1\n",
    "ls = []\n",
    "for ch in freqs.keys():\n",
    "    ls.append((ch,freqs[ch]))\n",
    "ls.sort(reverse = True, key = lambda x: x[1])\n",
    "print(ls)"
   ]
  },
  {
   "cell_type": "code",
   "execution_count": 3,
   "id": "dd23573f",
   "metadata": {},
   "outputs": [
    {
     "name": "stdout",
     "output_type": "stream",
     "text": [
      "abcdefghijklmnopqrstuvwxyzABCDEFGHIJKLMNOPQRSTUVWXYZ"
     ]
    }
   ],
   "source": [
    "#lowercase chars:\n",
    "import string\n",
    "for char in string.ascii_lowercase:\n",
    "  print(char,end='')\n",
    "for char in string.ascii_uppercase:\n",
    "  print(char,end='')"
   ]
  },
  {
   "cell_type": "code",
   "execution_count": 3,
   "id": "b9418871",
   "metadata": {},
   "outputs": [
    {
     "name": "stdout",
     "output_type": "stream",
     "text": [
      "howareyou\n",
      "how are you\n"
     ]
    }
   ],
   "source": [
    "#string join\n",
    "my_list = [\"how\", \"are\", \"you\"]\n",
    "print(''.join(my_list))\n",
    "#or with spaces:\n",
    "print(' '.join(my_list))"
   ]
  }
 ],
 "metadata": {
  "kernelspec": {
   "display_name": "Python 3.9.13 64-bit",
   "language": "python",
   "name": "python3"
  },
  "language_info": {
   "codemirror_mode": {
    "name": "ipython",
    "version": 3
   },
   "file_extension": ".py",
   "mimetype": "text/x-python",
   "name": "python",
   "nbconvert_exporter": "python",
   "pygments_lexer": "ipython3",
   "version": "3.9.13"
  },
  "vscode": {
   "interpreter": {
    "hash": "7d6993cb2f9ce9a59d5d7380609d9cb5192a9dedd2735a011418ad9e827eb538"
   }
  }
 },
 "nbformat": 4,
 "nbformat_minor": 5
}
